{
 "cells": [
  {
   "cell_type": "markdown",
   "metadata": {
    "toc": true
   },
   "source": [
    "<h1>Содержание<span class=\"tocSkip\"></span></h1>\n",
    "<div class=\"toc\"><ul class=\"toc-item\"><li><span><a href=\"#Загрузка-данных\" data-toc-modified-id=\"Загрузка-данных-1\"><span class=\"toc-item-num\">1&nbsp;&nbsp;</span>Загрузка данных</a></span></li><li><span><a href=\"#Умножение-матриц\" data-toc-modified-id=\"Умножение-матриц-2\"><span class=\"toc-item-num\">2&nbsp;&nbsp;</span>Умножение матриц</a></span></li><li><span><a href=\"#Алгоритм-преобразования\" data-toc-modified-id=\"Алгоритм-преобразования-3\"><span class=\"toc-item-num\">3&nbsp;&nbsp;</span>Алгоритм преобразования</a></span></li><li><span><a href=\"#Проверка-алгоритма\" data-toc-modified-id=\"Проверка-алгоритма-4\"><span class=\"toc-item-num\">4&nbsp;&nbsp;</span>Проверка алгоритма</a></span></li><li><span><a href=\"#Чек-лист-проверки\" data-toc-modified-id=\"Чек-лист-проверки-5\"><span class=\"toc-item-num\">5&nbsp;&nbsp;</span>Чек-лист проверки</a></span></li></ul></div>"
   ]
  },
  {
   "cell_type": "markdown",
   "metadata": {},
   "source": [
    "# Защита персональных данных клиентов"
   ]
  },
  {
   "cell_type": "markdown",
   "metadata": {},
   "source": [
    "**Цель:** защита данных клиентов страховой компании «Хоть потоп».\n",
    "\n",
    "**Задача:** разработка метода преобразования данных, для того, чтобы по ним было сложно восстановить персональную информацию. \n",
    "\n",
    "**Этапы работы:** загрузка и анализа данных/умножение матриц и качество линейной регрессии/алгоритм преобразования данных/проверка качества алгоритма.\n",
    "\n",
    "**Описание данных:**\n",
    "Работа с файлом - '/datasets/insurance.csv', где\n",
    "- Признаки: пол, возраст и зарплата застрахованного, количество членов его семьи.\n",
    "- Целевой признак: количество страховых выплат клиенту за последние 5 лет.\n"
   ]
  },
  {
   "cell_type": "markdown",
   "metadata": {},
   "source": [
    "## Загрузка данных"
   ]
  },
  {
   "cell_type": "code",
   "execution_count": 1,
   "metadata": {},
   "outputs": [],
   "source": [
    "# импорт библиотек\n",
    "\n",
    "import pandas as pd\n",
    "import numpy as np\n",
    "import sklearn\n",
    "from sklearn.linear_model import LinearRegression\n",
    "from sklearn.metrics import r2_score\n",
    "from sklearn.model_selection import train_test_split\n",
    "from IPython.display import display\n",
    "import seaborn as sns\n",
    "import matplotlib.pyplot as plt\n",
    "from sklearn.model_selection import train_test_split"
   ]
  },
  {
   "cell_type": "code",
   "execution_count": 2,
   "metadata": {},
   "outputs": [],
   "source": [
    "try:\n",
    "    data = pd.read_csv('insurance.csv')\n",
    "except:\n",
    "    data = pd.read_csv('/datasets/insurance.csv')"
   ]
  },
  {
   "cell_type": "code",
   "execution_count": 3,
   "metadata": {},
   "outputs": [
    {
     "data": {
      "text/html": [
       "<div>\n",
       "<style scoped>\n",
       "    .dataframe tbody tr th:only-of-type {\n",
       "        vertical-align: middle;\n",
       "    }\n",
       "\n",
       "    .dataframe tbody tr th {\n",
       "        vertical-align: top;\n",
       "    }\n",
       "\n",
       "    .dataframe thead th {\n",
       "        text-align: right;\n",
       "    }\n",
       "</style>\n",
       "<table border=\"1\" class=\"dataframe\">\n",
       "  <thead>\n",
       "    <tr style=\"text-align: right;\">\n",
       "      <th></th>\n",
       "      <th>Пол</th>\n",
       "      <th>Возраст</th>\n",
       "      <th>Зарплата</th>\n",
       "      <th>Члены семьи</th>\n",
       "      <th>Страховые выплаты</th>\n",
       "    </tr>\n",
       "  </thead>\n",
       "  <tbody>\n",
       "    <tr>\n",
       "      <th>0</th>\n",
       "      <td>1</td>\n",
       "      <td>41.0</td>\n",
       "      <td>49600.0</td>\n",
       "      <td>1</td>\n",
       "      <td>0</td>\n",
       "    </tr>\n",
       "    <tr>\n",
       "      <th>1</th>\n",
       "      <td>0</td>\n",
       "      <td>46.0</td>\n",
       "      <td>38000.0</td>\n",
       "      <td>1</td>\n",
       "      <td>1</td>\n",
       "    </tr>\n",
       "    <tr>\n",
       "      <th>2</th>\n",
       "      <td>0</td>\n",
       "      <td>29.0</td>\n",
       "      <td>21000.0</td>\n",
       "      <td>0</td>\n",
       "      <td>0</td>\n",
       "    </tr>\n",
       "    <tr>\n",
       "      <th>3</th>\n",
       "      <td>0</td>\n",
       "      <td>21.0</td>\n",
       "      <td>41700.0</td>\n",
       "      <td>2</td>\n",
       "      <td>0</td>\n",
       "    </tr>\n",
       "    <tr>\n",
       "      <th>4</th>\n",
       "      <td>1</td>\n",
       "      <td>28.0</td>\n",
       "      <td>26100.0</td>\n",
       "      <td>0</td>\n",
       "      <td>0</td>\n",
       "    </tr>\n",
       "    <tr>\n",
       "      <th>5</th>\n",
       "      <td>1</td>\n",
       "      <td>43.0</td>\n",
       "      <td>41000.0</td>\n",
       "      <td>2</td>\n",
       "      <td>1</td>\n",
       "    </tr>\n",
       "    <tr>\n",
       "      <th>6</th>\n",
       "      <td>1</td>\n",
       "      <td>39.0</td>\n",
       "      <td>39700.0</td>\n",
       "      <td>2</td>\n",
       "      <td>0</td>\n",
       "    </tr>\n",
       "    <tr>\n",
       "      <th>7</th>\n",
       "      <td>1</td>\n",
       "      <td>25.0</td>\n",
       "      <td>38600.0</td>\n",
       "      <td>4</td>\n",
       "      <td>0</td>\n",
       "    </tr>\n",
       "    <tr>\n",
       "      <th>8</th>\n",
       "      <td>1</td>\n",
       "      <td>36.0</td>\n",
       "      <td>49700.0</td>\n",
       "      <td>1</td>\n",
       "      <td>0</td>\n",
       "    </tr>\n",
       "    <tr>\n",
       "      <th>9</th>\n",
       "      <td>1</td>\n",
       "      <td>32.0</td>\n",
       "      <td>51700.0</td>\n",
       "      <td>1</td>\n",
       "      <td>0</td>\n",
       "    </tr>\n",
       "  </tbody>\n",
       "</table>\n",
       "</div>"
      ],
      "text/plain": [
       "   Пол  Возраст  Зарплата  Члены семьи  Страховые выплаты\n",
       "0    1     41.0   49600.0            1                  0\n",
       "1    0     46.0   38000.0            1                  1\n",
       "2    0     29.0   21000.0            0                  0\n",
       "3    0     21.0   41700.0            2                  0\n",
       "4    1     28.0   26100.0            0                  0\n",
       "5    1     43.0   41000.0            2                  1\n",
       "6    1     39.0   39700.0            2                  0\n",
       "7    1     25.0   38600.0            4                  0\n",
       "8    1     36.0   49700.0            1                  0\n",
       "9    1     32.0   51700.0            1                  0"
      ]
     },
     "metadata": {},
     "output_type": "display_data"
    }
   ],
   "source": [
    "display(data.head(10))"
   ]
  },
  {
   "cell_type": "code",
   "execution_count": 4,
   "metadata": {},
   "outputs": [
    {
     "name": "stdout",
     "output_type": "stream",
     "text": [
      "<class 'pandas.core.frame.DataFrame'>\n",
      "RangeIndex: 5000 entries, 0 to 4999\n",
      "Data columns (total 5 columns):\n",
      " #   Column             Non-Null Count  Dtype  \n",
      "---  ------             --------------  -----  \n",
      " 0   Пол                5000 non-null   int64  \n",
      " 1   Возраст            5000 non-null   float64\n",
      " 2   Зарплата           5000 non-null   float64\n",
      " 3   Члены семьи        5000 non-null   int64  \n",
      " 4   Страховые выплаты  5000 non-null   int64  \n",
      "dtypes: float64(2), int64(3)\n",
      "memory usage: 195.4 KB\n"
     ]
    },
    {
     "data": {
      "text/plain": [
       "None"
      ]
     },
     "metadata": {},
     "output_type": "display_data"
    },
    {
     "data": {
      "text/html": [
       "<div>\n",
       "<style scoped>\n",
       "    .dataframe tbody tr th:only-of-type {\n",
       "        vertical-align: middle;\n",
       "    }\n",
       "\n",
       "    .dataframe tbody tr th {\n",
       "        vertical-align: top;\n",
       "    }\n",
       "\n",
       "    .dataframe thead th {\n",
       "        text-align: right;\n",
       "    }\n",
       "</style>\n",
       "<table border=\"1\" class=\"dataframe\">\n",
       "  <thead>\n",
       "    <tr style=\"text-align: right;\">\n",
       "      <th></th>\n",
       "      <th>Пол</th>\n",
       "      <th>Возраст</th>\n",
       "      <th>Зарплата</th>\n",
       "      <th>Члены семьи</th>\n",
       "      <th>Страховые выплаты</th>\n",
       "    </tr>\n",
       "  </thead>\n",
       "  <tbody>\n",
       "    <tr>\n",
       "      <th>count</th>\n",
       "      <td>5000.000000</td>\n",
       "      <td>5000.000000</td>\n",
       "      <td>5000.000000</td>\n",
       "      <td>5000.000000</td>\n",
       "      <td>5000.000000</td>\n",
       "    </tr>\n",
       "    <tr>\n",
       "      <th>mean</th>\n",
       "      <td>0.499000</td>\n",
       "      <td>30.952800</td>\n",
       "      <td>39916.360000</td>\n",
       "      <td>1.194200</td>\n",
       "      <td>0.148000</td>\n",
       "    </tr>\n",
       "    <tr>\n",
       "      <th>std</th>\n",
       "      <td>0.500049</td>\n",
       "      <td>8.440807</td>\n",
       "      <td>9900.083569</td>\n",
       "      <td>1.091387</td>\n",
       "      <td>0.463183</td>\n",
       "    </tr>\n",
       "    <tr>\n",
       "      <th>min</th>\n",
       "      <td>0.000000</td>\n",
       "      <td>18.000000</td>\n",
       "      <td>5300.000000</td>\n",
       "      <td>0.000000</td>\n",
       "      <td>0.000000</td>\n",
       "    </tr>\n",
       "    <tr>\n",
       "      <th>25%</th>\n",
       "      <td>0.000000</td>\n",
       "      <td>24.000000</td>\n",
       "      <td>33300.000000</td>\n",
       "      <td>0.000000</td>\n",
       "      <td>0.000000</td>\n",
       "    </tr>\n",
       "    <tr>\n",
       "      <th>50%</th>\n",
       "      <td>0.000000</td>\n",
       "      <td>30.000000</td>\n",
       "      <td>40200.000000</td>\n",
       "      <td>1.000000</td>\n",
       "      <td>0.000000</td>\n",
       "    </tr>\n",
       "    <tr>\n",
       "      <th>75%</th>\n",
       "      <td>1.000000</td>\n",
       "      <td>37.000000</td>\n",
       "      <td>46600.000000</td>\n",
       "      <td>2.000000</td>\n",
       "      <td>0.000000</td>\n",
       "    </tr>\n",
       "    <tr>\n",
       "      <th>max</th>\n",
       "      <td>1.000000</td>\n",
       "      <td>65.000000</td>\n",
       "      <td>79000.000000</td>\n",
       "      <td>6.000000</td>\n",
       "      <td>5.000000</td>\n",
       "    </tr>\n",
       "  </tbody>\n",
       "</table>\n",
       "</div>"
      ],
      "text/plain": [
       "               Пол      Возраст      Зарплата  Члены семьи  Страховые выплаты\n",
       "count  5000.000000  5000.000000   5000.000000  5000.000000        5000.000000\n",
       "mean      0.499000    30.952800  39916.360000     1.194200           0.148000\n",
       "std       0.500049     8.440807   9900.083569     1.091387           0.463183\n",
       "min       0.000000    18.000000   5300.000000     0.000000           0.000000\n",
       "25%       0.000000    24.000000  33300.000000     0.000000           0.000000\n",
       "50%       0.000000    30.000000  40200.000000     1.000000           0.000000\n",
       "75%       1.000000    37.000000  46600.000000     2.000000           0.000000\n",
       "max       1.000000    65.000000  79000.000000     6.000000           5.000000"
      ]
     },
     "metadata": {},
     "output_type": "display_data"
    }
   ],
   "source": [
    "display(data.info())\n",
    "display(data.describe())"
   ]
  },
  {
   "cell_type": "markdown",
   "metadata": {},
   "source": [
    "Итак, у нас 5000 строк, средняя зарплата - 39,9 тыс. руб.; средний возраст - 30,9. Признаки обозначены:\n",
    "- Пол, Возраст, Зарплата, Члены, семьи.\n",
    "- Целевой признак: количество страховых выплат.\n",
    "Для задачи предобработка не требуется."
   ]
  },
  {
   "cell_type": "code",
   "execution_count": 5,
   "metadata": {},
   "outputs": [
    {
     "data": {
      "text/plain": [
       "<AxesSubplot:>"
      ]
     },
     "execution_count": 5,
     "metadata": {},
     "output_type": "execute_result"
    },
    {
     "data": {
      "image/png": "[encoded data removed]",
      "text/plain": [
       "<Figure size 432x288 with 2 Axes>"
      ]
     },
     "metadata": {
      "needs_background": "light"
     },
     "output_type": "display_data"
    }
   ],
   "source": [
    "corr = data.corr()\n",
    "sns.heatmap(corr)"
   ]
  },
  {
   "cell_type": "code",
   "execution_count": 6,
   "metadata": {},
   "outputs": [
    {
     "data": {
      "text/plain": [
       "0.6510300979467256"
      ]
     },
     "execution_count": 6,
     "metadata": {},
     "output_type": "execute_result"
    }
   ],
   "source": [
    "data['Возраст'].corr(data['Страховые выплаты'])"
   ]
  },
  {
   "cell_type": "markdown",
   "metadata": {},
   "source": [
    "Да, достаточно высокая, но приемлемая для нашей задачи."
   ]
  },
  {
   "cell_type": "markdown",
   "metadata": {},
   "source": [
    "## Умножение матриц"
   ]
  },
  {
   "cell_type": "markdown",
   "metadata": {},
   "source": [
    "В этом задании вы можете записывать формулы в *Jupyter Notebook.*\n",
    "\n",
    "Чтобы записать формулу внутри текста, окружите её символами доллара \\\\$; если снаружи —  двойными символами \\\\$\\\\$. Эти формулы записываются на языке вёрстки *LaTeX.* \n",
    "\n",
    "Для примера мы записали формулы линейной регрессии. Можете их скопировать и отредактировать, чтобы решить задачу.\n",
    "\n",
    "Работать в *LaTeX* необязательно."
   ]
  },
  {
   "cell_type": "markdown",
   "metadata": {},
   "source": [
    "Обозначения:\n",
    "\n",
    "- $X$ — матрица признаков (нулевой столбец состоит из единиц)\n",
    "\n",
    "- $y$ — вектор целевого признака\n",
    "\n",
    "- $P$ — матрица, на которую умножаются признаки\n",
    "\n",
    "- $w$ — вектор весов линейной регрессии (нулевой элемент равен сдвигу)"
   ]
  },
  {
   "cell_type": "markdown",
   "metadata": {},
   "source": [
    "Предсказания:\n",
    "\n",
    "$$\n",
    "a = Xw\n",
    "$$\n",
    "\n",
    "Задача обучения:\n",
    "\n",
    "$$\n",
    "w = \\arg\\min_w MSE(Xw, y)\n",
    "$$\n",
    "\n",
    "Формула обучения:\n",
    "\n",
    "$$\n",
    "w = (X^T X)^{-1} X^T y\n",
    "$$"
   ]
  },
  {
   "cell_type": "markdown",
   "metadata": {},
   "source": [
    "**Признаки умножают на обратимую матрицу. Качество линейной регрессии не изменится**. Изменится вектор весов линейной регрессии для новых признаков. Любую матрицу A умножить на единичную (или наоборот), получится эта же матрица A: AE = EA = A.\n",
    "Параметры линейной регрессии в исходной задаче и в преобразованной связаны между собой алгоритмом преобразования признаков, по результату работы которого предсказание вычисляется методом умножения признаков исходных данных на вектор по длине равный ширине таблицы признаков, который в свою очередь умножается на целевые признаки."
   ]
  },
  {
   "cell_type": "markdown",
   "metadata": {},
   "source": [
    "Итак, обратная для квадратной матрицы A — матрица A с верхним индексом -1. Умножение может быть в любом порядке: \n",
    "$$\n",
    "AA^{-1} = A^{-1}A = E\n",
    "$$\n",
    "\n",
    "Учтем свойства (А и B квадратные):\n",
    "$$\n",
    "(АВ)^{T} = В^T A^T\n",
    "$$\n",
    "\n",
    "$$\n",
    "(АВ)^{-1} = В^{-1} А^{-1}\n",
    "$$\n",
    "\n",
    "Возьмем а1=a, a1, как предсказание, с матрицей признаков X, умноженных на матрицу, на которую умножаются признаки\n",
    "\n",
    "$$\n",
    "a = wX\n",
    "$$\n",
    "\n",
    "$$\n",
    "а1 = w1X1\n",
    "$$\n",
    "\n",
    "$$\n",
    "X1 = XР\n",
    "$$\n",
    "\n",
    "Для предсказания для матрицы XР:\n",
    "$$\n",
    "a1 = (XР)((XР)^{T}XР)^{-1}(XР)^{T} y)\n",
    "$$\n",
    "\n",
    "Преобразуем с учетом свойств:\n",
    "\n",
    "$$\n",
    "a1 = (XР)(Р^{T} X^{T}XР)^{-1} (Р^{T} X^{T} y)\n",
    "$$\n",
    "\n",
    "и\n",
    "\n",
    "$$\n",
    "a1 = XР(X^{T}XР)^{-1} (Р^{T})^{-1} (Р^{T} X^{T} y) = XРР^{-1}(X^{T} X)^{-1}(Р^{T})^{-1}Р^{T} X^{T} y\n",
    "$$\n",
    "\n",
    "Так как, \n",
    "\n",
    "$$\n",
    "AA^{-1} = A^{-1}A = E\n",
    "$$\n",
    "\n",
    "Преобразуем уравнение:\n",
    "\n",
    "$$\n",
    "a1 = XE(X^{T} X)^{-1} EX^{T} y = X(X^{T} X)^{-1} X^{T} y\n",
    "$$\n",
    "\n",
    "Если \n",
    "\n",
    "$$\n",
    "a = X(X^{T} X)^{-1} X^{T} y\n",
    "$$\n",
    "\n",
    "Значит, a1 = a, w1 = w."
   ]
  },
  {
   "cell_type": "markdown",
   "metadata": {},
   "source": [
    "Таким образом, если изменить исходные данные методом умножения признаков на обратимую матрицу, не изменяя значений целевого признака, качество предсказания модели не изменится."
   ]
  },
  {
   "cell_type": "markdown",
   "metadata": {},
   "source": [
    "Таким же образом, заменим новой матрицей признаков X1 - произведение старой X на матрицу P. Тогда получается:"
   ]
  },
  {
   "cell_type": "markdown",
   "metadata": {},
   "source": [
    "$$\n",
    "X1 = XP\n",
    "$$\n",
    "\n",
    "$$\n",
    "w_P = (X1^T X1)^{-1} X1^T y\n",
    "$$"
   ]
  },
  {
   "cell_type": "markdown",
   "metadata": {},
   "source": [
    "Перегруппируем, раскроем скобки и получим формулу для $w_P$:"
   ]
  },
  {
   "cell_type": "markdown",
   "metadata": {},
   "source": [
    "$$\n",
    "w_P = ((XP)^T XP)^{-1} (XP)^T y = (P^T X^T XP)^{-1} P^T X^T y = P^{-1} (X^T X)^{-1} (P^T)^{-1} P^T X^T y = P^{-1} (X^T X)^{-1} X^T y\n",
    "$$"
   ]
  },
  {
   "cell_type": "markdown",
   "metadata": {},
   "source": [
    "Получили формулу для $w$, подставим $w$ и $w_p$, чтобы вычислить предсказания этой же $a1$"
   ]
  },
  {
   "cell_type": "markdown",
   "metadata": {},
   "source": [
    "$$\n",
    "w_P = P^{-1} w\n",
    "$$\n",
    "\n",
    "$$\n",
    "а1 = Х1\n",
    "$$\n",
    "\n",
    "$$\n",
    "w_P = XP P^{-1} \n",
    "$$\n",
    "\n",
    "$$\n",
    "w = Xw\n",
    "$$\n",
    "\n",
    "$$\n",
    "a1 = a\n",
    "$$"
   ]
  },
  {
   "cell_type": "markdown",
   "metadata": {},
   "source": [
    "Так и получается, предсказания $а1$ для матрицы признаков, которые умножены на обратимую матрицу $P$ равны предсказаниям $a$."
   ]
  },
  {
   "cell_type": "markdown",
   "metadata": {},
   "source": [
    "В данном случае, параметры линейной регрессии в исходной задаче $w$ и $w_p$ в преобразованной  связаны следующим образом:\n",
    "\n",
    "$$\n",
    "w_P = P^{-1} w\n",
    "$$"
   ]
  },
  {
   "cell_type": "markdown",
   "metadata": {},
   "source": [
    "## Алгоритм преобразования"
   ]
  },
  {
   "cell_type": "markdown",
   "metadata": {},
   "source": [
    "**Алгоритм**\n",
    "Необходимо умножить матрицу признаков на матрицу шифрования так как при умножении количество столбцов матрицы A должно быть равно количеству строк матрицы, полученная матрица будет иметь количество строк матрицы A и количество столбцов матрицы B. Поэтому размер матрицы щифрования на которую умножают равен 4х4\n",
    "\n",
    "Итак, если сгенерировать случайную матрицу функцией numpy.random.normal(), вероятность получить необратимую матрицу близка к нулю."
   ]
  },
  {
   "cell_type": "markdown",
   "metadata": {},
   "source": [
    "**Обоснование**"
   ]
  },
  {
   "cell_type": "code",
   "execution_count": 7,
   "metadata": {},
   "outputs": [
    {
     "data": {
      "text/plain": [
       "((5000, 4), (5000,))"
      ]
     },
     "execution_count": 7,
     "metadata": {},
     "output_type": "execute_result"
    }
   ],
   "source": [
    "features = data.drop('Страховые выплаты', axis=1)\n",
    "target = data['Страховые выплаты']\n",
    "features.shape, target.shape"
   ]
  },
  {
   "cell_type": "code",
   "execution_count": 8,
   "metadata": {},
   "outputs": [],
   "source": [
    "# Создадим обратимую квадратную матрицу размерностью столбцов features\n",
    "state = np.random.RandomState(12345)\n",
    "matrix_inv=np.random.normal(size=(features.shape[1],features.shape[1]))"
   ]
  },
  {
   "cell_type": "code",
   "execution_count": 9,
   "metadata": {},
   "outputs": [
    {
     "data": {
      "text/plain": [
       "array([[ 1.,  0.,  0., -0.],\n",
       "       [-0.,  1., -0.,  0.],\n",
       "       [-0.,  0.,  1.,  0.],\n",
       "       [ 0., -0.,  0.,  1.]])"
      ]
     },
     "execution_count": 9,
     "metadata": {},
     "output_type": "execute_result"
    }
   ],
   "source": [
    "np.round(matrix_inv @ np.linalg.inv(matrix_inv))"
   ]
  },
  {
   "cell_type": "markdown",
   "metadata": {},
   "source": [
    "Да, матрица является единичной, рандомная матрица matrix_inv обратима."
   ]
  },
  {
   "cell_type": "code",
   "execution_count": 11,
   "metadata": {},
   "outputs": [
    {
     "data": {
      "text/html": [
       "<div>\n",
       "<style scoped>\n",
       "    .dataframe tbody tr th:only-of-type {\n",
       "        vertical-align: middle;\n",
       "    }\n",
       "\n",
       "    .dataframe tbody tr th {\n",
       "        vertical-align: top;\n",
       "    }\n",
       "\n",
       "    .dataframe thead th {\n",
       "        text-align: right;\n",
       "    }\n",
       "</style>\n",
       "<table border=\"1\" class=\"dataframe\">\n",
       "  <thead>\n",
       "    <tr style=\"text-align: right;\">\n",
       "      <th></th>\n",
       "      <th>0</th>\n",
       "      <th>1</th>\n",
       "      <th>2</th>\n",
       "      <th>3</th>\n",
       "    </tr>\n",
       "  </thead>\n",
       "  <tbody>\n",
       "    <tr>\n",
       "      <th>0</th>\n",
       "      <td>32218.859770</td>\n",
       "      <td>-14467.829331</td>\n",
       "      <td>4569.425176</td>\n",
       "      <td>49082.903543</td>\n",
       "    </tr>\n",
       "    <tr>\n",
       "      <th>1</th>\n",
       "      <td>24659.291129</td>\n",
       "      <td>-11092.406648</td>\n",
       "      <td>3515.940777</td>\n",
       "      <td>37581.198519</td>\n",
       "    </tr>\n",
       "    <tr>\n",
       "      <th>2</th>\n",
       "      <td>13620.774901</td>\n",
       "      <td>-6133.032236</td>\n",
       "      <td>1947.429938</td>\n",
       "      <td>20763.215175</td>\n",
       "    </tr>\n",
       "    <tr>\n",
       "      <th>3</th>\n",
       "      <td>27112.202456</td>\n",
       "      <td>-12154.714381</td>\n",
       "      <td>3826.853320</td>\n",
       "      <td>41286.962033</td>\n",
       "    </tr>\n",
       "    <tr>\n",
       "      <th>4</th>\n",
       "      <td>16941.940485</td>\n",
       "      <td>-7617.170523</td>\n",
       "      <td>2411.440007</td>\n",
       "      <td>25817.447125</td>\n",
       "    </tr>\n",
       "    <tr>\n",
       "      <th>...</th>\n",
       "      <td>...</td>\n",
       "      <td>...</td>\n",
       "      <td>...</td>\n",
       "      <td>...</td>\n",
       "    </tr>\n",
       "    <tr>\n",
       "      <th>4995</th>\n",
       "      <td>23194.108068</td>\n",
       "      <td>-10410.706683</td>\n",
       "      <td>3286.113810</td>\n",
       "      <td>35330.155682</td>\n",
       "    </tr>\n",
       "    <tr>\n",
       "      <th>4996</th>\n",
       "      <td>34054.413620</td>\n",
       "      <td>-15280.627468</td>\n",
       "      <td>4818.635973</td>\n",
       "      <td>51869.853127</td>\n",
       "    </tr>\n",
       "    <tr>\n",
       "      <th>4997</th>\n",
       "      <td>22036.152838</td>\n",
       "      <td>-9882.028608</td>\n",
       "      <td>3113.538673</td>\n",
       "      <td>33559.275108</td>\n",
       "    </tr>\n",
       "    <tr>\n",
       "      <th>4998</th>\n",
       "      <td>21251.815630</td>\n",
       "      <td>-9530.650329</td>\n",
       "      <td>3003.971704</td>\n",
       "      <td>32365.124502</td>\n",
       "    </tr>\n",
       "    <tr>\n",
       "      <th>4999</th>\n",
       "      <td>26382.373389</td>\n",
       "      <td>-11839.077141</td>\n",
       "      <td>3734.226587</td>\n",
       "      <td>40185.297114</td>\n",
       "    </tr>\n",
       "  </tbody>\n",
       "</table>\n",
       "<p>5000 rows × 4 columns</p>\n",
       "</div>"
      ],
      "text/plain": [
       "                 0             1            2             3\n",
       "0     32218.859770 -14467.829331  4569.425176  49082.903543\n",
       "1     24659.291129 -11092.406648  3515.940777  37581.198519\n",
       "2     13620.774901  -6133.032236  1947.429938  20763.215175\n",
       "3     27112.202456 -12154.714381  3826.853320  41286.962033\n",
       "4     16941.940485  -7617.170523  2411.440007  25817.447125\n",
       "...            ...           ...          ...           ...\n",
       "4995  23194.108068 -10410.706683  3286.113810  35330.155682\n",
       "4996  34054.413620 -15280.627468  4818.635973  51869.853127\n",
       "4997  22036.152838  -9882.028608  3113.538673  33559.275108\n",
       "4998  21251.815630  -9530.650329  3003.971704  32365.124502\n",
       "4999  26382.373389 -11839.077141  3734.226587  40185.297114\n",
       "\n",
       "[5000 rows x 4 columns]"
      ]
     },
     "execution_count": 11,
     "metadata": {},
     "output_type": "execute_result"
    }
   ],
   "source": [
    "features_inv=features @ matrix_inv\n",
    "features_inv"
   ]
  },
  {
   "cell_type": "markdown",
   "metadata": {},
   "source": [
    "Размер матрицы признаков и кодированных признаков совпадает."
   ]
  },
  {
   "cell_type": "markdown",
   "metadata": {},
   "source": [
    "## Проверка алгоритма"
   ]
  },
  {
   "cell_type": "code",
   "execution_count": 12,
   "metadata": {},
   "outputs": [
    {
     "name": "stdout",
     "output_type": "stream",
     "text": [
      "R2: 0.4249455028666801\n"
     ]
    }
   ],
   "source": [
    "model = LinearRegression()\n",
    "model.fit(features, target)\n",
    "predictions = model.predict(features)\n",
    "\n",
    "print('R2:', r2_score(target, predictions))"
   ]
  },
  {
   "cell_type": "markdown",
   "metadata": {},
   "source": [
    "На тестовой"
   ]
  },
  {
   "cell_type": "code",
   "execution_count": 13,
   "metadata": {},
   "outputs": [
    {
     "name": "stdout",
     "output_type": "stream",
     "text": [
      "R2: 0.42494550286666877\n"
     ]
    }
   ],
   "source": [
    "model = LinearRegression()\n",
    "model.fit(features_inv, target)\n",
    "predictions = model.predict(features_inv)\n",
    "\n",
    "print('R2:', r2_score(target, predictions))"
   ]
  },
  {
   "cell_type": "code",
   "execution_count": 14,
   "metadata": {},
   "outputs": [
    {
     "data": {
      "text/plain": [
       "(5000, 4)"
      ]
     },
     "execution_count": 14,
     "metadata": {},
     "output_type": "execute_result"
    }
   ],
   "source": [
    "target.shape\n",
    "features_inv.shape"
   ]
  },
  {
   "cell_type": "markdown",
   "metadata": {},
   "source": [
    "Качество моделей при помощи умножения на обратимую матрицу со случайными числами не изменяется."
   ]
  },
  {
   "cell_type": "markdown",
   "metadata": {},
   "source": [
    "**Общий вывод:**\n",
    "Нам было необходимо для защиты данные клиентов страховой компании «Хоть потоп» разработать такой метод преобразования данных, чтобы по ним было сложно восстановить персональную информацию. \n",
    "\n",
    "Для этого были загружены и изучены данные файла, с основной информацией из 5 столбцов (признаков) с 5000-ми строк. Признаки обозначены:\n",
    "- Пол, Возраст, Зарплата, Члены, семьи.\n",
    "- Целевой признак: количество страховых выплат.\n",
    "\n",
    "Средняя зарплата - 39,9 тыс. руб.; средний возраст - 30,9. Для правильной работы, проведена проверка на корреляцию. Высокая Мультиколлениарность выявлена в признаках возраста и кол-ве страховых выплат. Она составила - 0,65. Для задачи приемлема.  \n",
    "Предобработка данных не потребовалась.\n",
    "\n",
    "Далее для задачи обучения была преообазована формула и сделан вывод об умножении матриц и изменении качества линейной регрессии. Так как признаки умножают на обратимую матрицу - качество линейной регрессии не меняется (R2 по итогу - 0.4249455028666801 и 0.4249455028666802). \n",
    "Параметры линейной регрессии в исходной задаче и в преобразованной связаны между собой алгоритмом преобразования признаков, по результату работы которого предсказание вычисляется методом умножения признаков исходных данных на вектор по длине равный ширине таблицы признаков, который в свою очередь умножается на целевые признаки. В данном случае, параметры линейной регрессии в исходной задаче $w$ и $w_p$ в преобразованной  связаны следующим образом: $w_P = P^{-1} w$\n",
    "\n",
    "Был запрограммирован алгоритм предобразования. Для этого матрица признаков была умножена на матрицу шифрования Размер матрицы щифрования - 4х4. Была сгенерирована случайная матрица функцией numpy.random.normal() и проверена на обратимость функцией np.linalg.inv. В итоге работа по преобразованию данных корректна, размер матрицы признаков и кодированных признаков совпадает.\n",
    "\n",
    "В итоге было проверено отличается ли качество линейной регрессии из sklearn до и после преобразования.  Измерен показатель r2 исходных данных и на данных умноженных на обратимую матрицу размером разным числу признаков. При сравнении качества предсказаний с моделью r2 не поменяется. Результат -  алгоритм работает. Восстановить персональную информацию будет сложно, с защитой персональной информации он справится."
   ]
  }
 ],
 "metadata": {
  "ExecuteTimeLog": [
   {
    "duration": 1731,
    "start_time": "2023-01-05T10:12:12.550Z"
   },
   {
    "duration": 89,
    "start_time": "2023-01-05T10:12:20.611Z"
   },
   {
    "duration": 5,
    "start_time": "2023-01-05T10:14:03.793Z"
   },
   {
    "duration": 19,
    "start_time": "2023-01-05T10:14:42.863Z"
   },
   {
    "duration": 16,
    "start_time": "2023-01-05T10:15:34.385Z"
   },
   {
    "duration": 28,
    "start_time": "2023-01-05T10:15:58.136Z"
   },
   {
    "duration": 29,
    "start_time": "2023-01-05T10:17:54.698Z"
   },
   {
    "duration": 69,
    "start_time": "2023-01-05T10:29:11.568Z"
   },
   {
    "duration": 4,
    "start_time": "2023-01-05T10:36:18.101Z"
   },
   {
    "duration": 5,
    "start_time": "2023-01-05T10:36:36.971Z"
   },
   {
    "duration": 7,
    "start_time": "2023-01-05T10:37:21.441Z"
   },
   {
    "duration": 5,
    "start_time": "2023-01-05T10:37:39.340Z"
   },
   {
    "duration": 291,
    "start_time": "2023-01-05T10:38:06.688Z"
   },
   {
    "duration": 20,
    "start_time": "2023-01-05T10:38:34.068Z"
   },
   {
    "duration": 12,
    "start_time": "2023-01-05T10:39:41.340Z"
   },
   {
    "duration": 4,
    "start_time": "2023-01-05T10:39:58.141Z"
   },
   {
    "duration": 4,
    "start_time": "2023-01-05T10:40:05.334Z"
   },
   {
    "duration": 11,
    "start_time": "2023-01-05T10:40:06.872Z"
   },
   {
    "duration": 85,
    "start_time": "2023-01-06T11:06:39.813Z"
   },
   {
    "duration": 58,
    "start_time": "2023-01-06T11:21:18.814Z"
   },
   {
    "duration": 1777,
    "start_time": "2023-01-06T11:23:13.605Z"
   },
   {
    "duration": 167,
    "start_time": "2023-01-06T11:23:16.194Z"
   },
   {
    "duration": 19,
    "start_time": "2023-01-06T11:23:20.537Z"
   },
   {
    "duration": 42,
    "start_time": "2023-01-06T11:23:24.168Z"
   },
   {
    "duration": 4,
    "start_time": "2023-01-06T11:23:35.642Z"
   },
   {
    "duration": 4,
    "start_time": "2023-01-06T11:23:49.524Z"
   },
   {
    "duration": 4,
    "start_time": "2023-01-06T11:27:02.934Z"
   },
   {
    "duration": 12,
    "start_time": "2023-01-06T11:27:53.409Z"
   },
   {
    "duration": 97,
    "start_time": "2023-01-06T11:28:46.931Z"
   },
   {
    "duration": 139,
    "start_time": "2023-01-06T11:29:40.738Z"
   },
   {
    "duration": 14,
    "start_time": "2023-01-06T11:29:52.530Z"
   },
   {
    "duration": 13,
    "start_time": "2023-01-06T11:30:39.969Z"
   },
   {
    "duration": 15,
    "start_time": "2023-01-06T11:30:55.438Z"
   },
   {
    "duration": 5,
    "start_time": "2023-01-06T11:32:45.749Z"
   },
   {
    "duration": 11,
    "start_time": "2023-01-06T11:34:25.867Z"
   },
   {
    "duration": 3,
    "start_time": "2023-01-06T11:35:32.574Z"
   },
   {
    "duration": 4,
    "start_time": "2023-01-06T11:36:01.833Z"
   },
   {
    "duration": 4,
    "start_time": "2023-01-06T11:45:40.923Z"
   },
   {
    "duration": 1101,
    "start_time": "2023-01-06T11:46:00.772Z"
   },
   {
    "duration": 96,
    "start_time": "2023-01-06T11:46:27.875Z"
   },
   {
    "duration": 4,
    "start_time": "2023-01-06T11:46:34.738Z"
   },
   {
    "duration": 1059,
    "start_time": "2023-01-06T11:46:41.787Z"
   },
   {
    "duration": 75,
    "start_time": "2023-01-06T11:46:43.935Z"
   },
   {
    "duration": 19,
    "start_time": "2023-01-06T11:46:45.426Z"
   },
   {
    "duration": 34,
    "start_time": "2023-01-06T11:46:50.121Z"
   },
   {
    "duration": 5,
    "start_time": "2023-01-06T11:46:57.585Z"
   },
   {
    "duration": 4,
    "start_time": "2023-01-06T11:46:59.537Z"
   },
   {
    "duration": 4,
    "start_time": "2023-01-06T11:47:12.701Z"
   },
   {
    "duration": 14,
    "start_time": "2023-01-06T11:47:14.466Z"
   },
   {
    "duration": 19,
    "start_time": "2023-01-06T11:47:22.654Z"
   },
   {
    "duration": 9,
    "start_time": "2023-01-06T11:47:24.303Z"
   },
   {
    "duration": 4,
    "start_time": "2023-01-06T11:47:29.770Z"
   },
   {
    "duration": 1621,
    "start_time": "2023-01-06T12:54:43.450Z"
   },
   {
    "duration": 156,
    "start_time": "2023-01-06T12:54:45.073Z"
   },
   {
    "duration": 14,
    "start_time": "2023-01-06T12:54:45.230Z"
   },
   {
    "duration": 46,
    "start_time": "2023-01-06T12:54:45.246Z"
   },
   {
    "duration": 8,
    "start_time": "2023-01-06T12:54:45.293Z"
   },
   {
    "duration": 34,
    "start_time": "2023-01-06T12:54:45.303Z"
   },
   {
    "duration": 46,
    "start_time": "2023-01-06T12:54:45.338Z"
   },
   {
    "duration": 13,
    "start_time": "2023-01-06T12:54:45.386Z"
   },
   {
    "duration": 120,
    "start_time": "2023-01-06T12:54:45.400Z"
   },
   {
    "duration": 202,
    "start_time": "2023-01-06T12:54:45.522Z"
   },
   {
    "duration": 50,
    "start_time": "2023-01-08T08:27:40.703Z"
   },
   {
    "duration": 1053,
    "start_time": "2023-01-08T08:27:51.989Z"
   },
   {
    "duration": 121,
    "start_time": "2023-01-08T08:27:58.014Z"
   },
   {
    "duration": 16,
    "start_time": "2023-01-08T08:28:07.020Z"
   },
   {
    "duration": 31,
    "start_time": "2023-01-08T08:28:08.707Z"
   },
   {
    "duration": 98,
    "start_time": "2023-01-08T08:28:13.703Z"
   },
   {
    "duration": 488,
    "start_time": "2023-01-08T08:28:40.667Z"
   },
   {
    "duration": 407,
    "start_time": "2023-01-08T08:28:49.235Z"
   },
   {
    "duration": 6,
    "start_time": "2023-01-08T08:29:27.721Z"
   },
   {
    "duration": 71,
    "start_time": "2023-01-08T09:38:40.922Z"
   },
   {
    "duration": 6,
    "start_time": "2023-01-08T09:47:35.045Z"
   },
   {
    "duration": 69,
    "start_time": "2023-01-08T09:48:17.039Z"
   },
   {
    "duration": 26,
    "start_time": "2023-01-08T10:04:30.473Z"
   },
   {
    "duration": 6,
    "start_time": "2023-01-08T10:06:11.941Z"
   },
   {
    "duration": 4,
    "start_time": "2023-01-08T10:06:16.266Z"
   },
   {
    "duration": 6,
    "start_time": "2023-01-08T10:06:21.129Z"
   },
   {
    "duration": 4,
    "start_time": "2023-01-08T10:16:16.926Z"
   },
   {
    "duration": 5,
    "start_time": "2023-01-08T10:16:26.643Z"
   },
   {
    "duration": 6,
    "start_time": "2023-01-08T10:16:53.102Z"
   },
   {
    "duration": 6,
    "start_time": "2023-01-08T10:16:54.804Z"
   },
   {
    "duration": 4,
    "start_time": "2023-01-08T10:17:47.015Z"
   },
   {
    "duration": 14,
    "start_time": "2023-01-08T10:21:52.899Z"
   },
   {
    "duration": 13,
    "start_time": "2023-01-08T10:24:07.738Z"
   },
   {
    "duration": 11,
    "start_time": "2023-01-08T10:25:08.279Z"
   },
   {
    "duration": 9,
    "start_time": "2023-01-08T10:27:15.233Z"
   },
   {
    "duration": 5,
    "start_time": "2023-01-08T11:11:49.771Z"
   },
   {
    "duration": 65,
    "start_time": "2023-01-08T11:11:54.923Z"
   },
   {
    "duration": 1441,
    "start_time": "2023-01-08T11:12:06.236Z"
   },
   {
    "duration": 65,
    "start_time": "2023-01-08T11:12:11.339Z"
   },
   {
    "duration": 17,
    "start_time": "2023-01-08T11:12:13.736Z"
   },
   {
    "duration": 42,
    "start_time": "2023-01-08T11:12:18.442Z"
   },
   {
    "duration": 303,
    "start_time": "2023-01-08T11:12:26.885Z"
   },
   {
    "duration": 6,
    "start_time": "2023-01-08T11:12:32.226Z"
   },
   {
    "duration": 6,
    "start_time": "2023-01-08T11:12:44.922Z"
   },
   {
    "duration": 7,
    "start_time": "2023-01-08T11:12:46.520Z"
   },
   {
    "duration": 4,
    "start_time": "2023-01-08T11:12:48.606Z"
   },
   {
    "duration": 5,
    "start_time": "2023-01-08T11:12:50.205Z"
   },
   {
    "duration": 5,
    "start_time": "2023-01-08T11:12:55.711Z"
   },
   {
    "duration": 11,
    "start_time": "2023-01-08T11:12:59.250Z"
   },
   {
    "duration": 55,
    "start_time": "2023-01-08T11:13:05.297Z"
   },
   {
    "duration": 10,
    "start_time": "2023-01-08T11:13:08.119Z"
   },
   {
    "duration": 121,
    "start_time": "2023-01-08T11:13:12.821Z"
   },
   {
    "duration": 15,
    "start_time": "2023-01-08T11:14:09.906Z"
   },
   {
    "duration": 16,
    "start_time": "2023-01-08T11:14:27.441Z"
   },
   {
    "duration": 1575,
    "start_time": "2023-01-08T11:15:19.153Z"
   },
   {
    "duration": 86,
    "start_time": "2023-01-08T11:15:24.032Z"
   },
   {
    "duration": 15,
    "start_time": "2023-01-08T11:15:25.815Z"
   },
   {
    "duration": 33,
    "start_time": "2023-01-08T11:15:31.563Z"
   },
   {
    "duration": 318,
    "start_time": "2023-01-08T11:15:36.973Z"
   },
   {
    "duration": 7,
    "start_time": "2023-01-08T11:15:41.564Z"
   },
   {
    "duration": 7,
    "start_time": "2023-01-08T11:15:52.744Z"
   },
   {
    "duration": 4,
    "start_time": "2023-01-08T11:15:55.805Z"
   },
   {
    "duration": 6,
    "start_time": "2023-01-08T11:16:03.129Z"
   },
   {
    "duration": 115,
    "start_time": "2023-01-08T11:16:05.313Z"
   },
   {
    "duration": 13,
    "start_time": "2023-01-08T11:16:23.238Z"
   },
   {
    "duration": 16,
    "start_time": "2023-01-08T11:16:31.456Z"
   },
   {
    "duration": 11,
    "start_time": "2023-01-08T11:16:40.342Z"
   },
   {
    "duration": 5,
    "start_time": "2023-01-08T11:16:45.303Z"
   },
   {
    "duration": 16,
    "start_time": "2023-01-09T06:00:41.815Z"
   },
   {
    "duration": 16,
    "start_time": "2023-01-09T07:04:30.141Z"
   }
  ],
  "kernelspec": {
   "display_name": "Python 3 (ipykernel)",
   "language": "python",
   "name": "python3"
  },
  "language_info": {
   "codemirror_mode": {
    "name": "ipython",
    "version": 3
   },
   "file_extension": ".py",
   "mimetype": "text/x-python",
   "name": "python",
   "nbconvert_exporter": "python",
   "pygments_lexer": "ipython3",
   "version": "3.9.5"
  },
  "toc": {
   "base_numbering": 1,
   "nav_menu": {},
   "number_sections": true,
   "sideBar": true,
   "skip_h1_title": true,
   "title_cell": "Содержание",
   "title_sidebar": "Contents",
   "toc_cell": true,
   "toc_position": {},
   "toc_section_display": true,
   "toc_window_display": false
  }
 },
 "nbformat": 4,
 "nbformat_minor": 2
}
